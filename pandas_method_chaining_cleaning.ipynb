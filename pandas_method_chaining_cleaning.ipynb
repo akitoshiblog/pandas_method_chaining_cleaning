{
 "cells": [
  {
   "cell_type": "code",
   "execution_count": 1,
   "id": "d9b64213-54c6-4fd0-a809-0f27bc505b7e",
   "metadata": {},
   "outputs": [],
   "source": [
    "import numpy as np\n",
    "import pandas as pd"
   ]
  },
  {
   "cell_type": "code",
   "execution_count": 2,
   "id": "438fdd33-f4c0-4f3c-ba10-66b761c78b47",
   "metadata": {},
   "outputs": [],
   "source": [
    "# Dataset is from Kaggle's Depression and Academic performance of students\n",
    "# https://www.kaggle.com/datasets/kanerudolph/depression-and-academic-performance-of-students\n",
    "path = \"Effects of Depression  Anxiety on Academic Performance among the students (respuestas).xlsx\"\n",
    "df = pd.read_excel(path)"
   ]
  },
  {
   "cell_type": "code",
   "execution_count": 3,
   "id": "8cf42d3c-d853-4c73-ba4e-e59b2718c04b",
   "metadata": {},
   "outputs": [],
   "source": [
    "# Insert missing values\n",
    "np.random.seed(1234)\n",
    "for col in df.columns:\n",
    "    df.loc[df.sample(frac=0.1).index, col] = np.nan"
   ]
  },
  {
   "cell_type": "markdown",
   "id": "9e26c49d-ff40-4086-9d2d-6efd9a5edd92",
   "metadata": {},
   "source": [
    "## Crosstabulation "
   ]
  },
  {
   "cell_type": "code",
   "execution_count": 4,
   "id": "07d60803-cb86-41d3-93a3-25d0fff95750",
   "metadata": {},
   "outputs": [],
   "source": [
    "sex = \"Gender:\"\n",
    "age = \"Age:\"\n",
    "sex_age = \"sex_age\""
   ]
  },
  {
   "cell_type": "code",
   "execution_count": 5,
   "id": "d4b299ce-9d85-4920-8ad8-302dbf5e2e5a",
   "metadata": {},
   "outputs": [],
   "source": [
    "tab = pd.crosstab(\n",
    "        df[sex].replace(np.nan,\"missing\"), \n",
    "        df[age].replace(np.nan,\"missing\"), \n",
    "        margins=True)\n",
    "tab_per = ( \n",
    "    pd.crosstab(\n",
    "        df[sex].replace(np.nan,\"missing\"), \n",
    "        df[age].replace(np.nan,\"missing\"), \n",
    "        margins=True, \n",
    "        normalize=\"index\"\n",
    "    ).mul(100)\n",
    "     .round(2)\n",
    ")"
   ]
  },
  {
   "cell_type": "code",
   "execution_count": 6,
   "id": "4dabaf4d-13cd-441b-af15-d915aa70dec8",
   "metadata": {},
   "outputs": [
    {
     "data": {
      "text/html": [
       "<div>\n",
       "<style scoped>\n",
       "    .dataframe tbody tr th:only-of-type {\n",
       "        vertical-align: middle;\n",
       "    }\n",
       "\n",
       "    .dataframe tbody tr th {\n",
       "        vertical-align: top;\n",
       "    }\n",
       "\n",
       "    .dataframe thead th {\n",
       "        text-align: right;\n",
       "    }\n",
       "</style>\n",
       "<table border=\"1\" class=\"dataframe\">\n",
       "  <thead>\n",
       "    <tr style=\"text-align: right;\">\n",
       "      <th>Age:</th>\n",
       "      <th>18 years or less</th>\n",
       "      <th>19 to 24 years</th>\n",
       "      <th>25 years and above</th>\n",
       "      <th>missing</th>\n",
       "      <th>All</th>\n",
       "    </tr>\n",
       "    <tr>\n",
       "      <th>Gender:</th>\n",
       "      <th></th>\n",
       "      <th></th>\n",
       "      <th></th>\n",
       "      <th></th>\n",
       "      <th></th>\n",
       "    </tr>\n",
       "  </thead>\n",
       "  <tbody>\n",
       "    <tr>\n",
       "      <th>Female</th>\n",
       "      <td>26</td>\n",
       "      <td>125</td>\n",
       "      <td>101</td>\n",
       "      <td>31</td>\n",
       "      <td>283</td>\n",
       "    </tr>\n",
       "    <tr>\n",
       "      <th>Male</th>\n",
       "      <td>2</td>\n",
       "      <td>14</td>\n",
       "      <td>16</td>\n",
       "      <td>2</td>\n",
       "      <td>34</td>\n",
       "    </tr>\n",
       "    <tr>\n",
       "      <th>missing</th>\n",
       "      <td>1</td>\n",
       "      <td>19</td>\n",
       "      <td>13</td>\n",
       "      <td>2</td>\n",
       "      <td>35</td>\n",
       "    </tr>\n",
       "    <tr>\n",
       "      <th>All</th>\n",
       "      <td>29</td>\n",
       "      <td>158</td>\n",
       "      <td>130</td>\n",
       "      <td>35</td>\n",
       "      <td>352</td>\n",
       "    </tr>\n",
       "  </tbody>\n",
       "</table>\n",
       "</div>"
      ],
      "text/plain": [
       "Age:     18 years or less  19 to 24 years  25 years and above  missing  All\n",
       "Gender:                                                                    \n",
       "Female                 26             125                 101       31  283\n",
       "Male                    2              14                  16        2   34\n",
       "missing                 1              19                  13        2   35\n",
       "All                    29             158                 130       35  352"
      ]
     },
     "metadata": {},
     "output_type": "display_data"
    },
    {
     "data": {
      "text/html": [
       "<div>\n",
       "<style scoped>\n",
       "    .dataframe tbody tr th:only-of-type {\n",
       "        vertical-align: middle;\n",
       "    }\n",
       "\n",
       "    .dataframe tbody tr th {\n",
       "        vertical-align: top;\n",
       "    }\n",
       "\n",
       "    .dataframe thead th {\n",
       "        text-align: right;\n",
       "    }\n",
       "</style>\n",
       "<table border=\"1\" class=\"dataframe\">\n",
       "  <thead>\n",
       "    <tr style=\"text-align: right;\">\n",
       "      <th>Age:</th>\n",
       "      <th>18 years or less</th>\n",
       "      <th>19 to 24 years</th>\n",
       "      <th>25 years and above</th>\n",
       "      <th>missing</th>\n",
       "    </tr>\n",
       "    <tr>\n",
       "      <th>Gender:</th>\n",
       "      <th></th>\n",
       "      <th></th>\n",
       "      <th></th>\n",
       "      <th></th>\n",
       "    </tr>\n",
       "  </thead>\n",
       "  <tbody>\n",
       "    <tr>\n",
       "      <th>Female</th>\n",
       "      <td>9.19</td>\n",
       "      <td>44.17</td>\n",
       "      <td>35.69</td>\n",
       "      <td>10.95</td>\n",
       "    </tr>\n",
       "    <tr>\n",
       "      <th>Male</th>\n",
       "      <td>5.88</td>\n",
       "      <td>41.18</td>\n",
       "      <td>47.06</td>\n",
       "      <td>5.88</td>\n",
       "    </tr>\n",
       "    <tr>\n",
       "      <th>missing</th>\n",
       "      <td>2.86</td>\n",
       "      <td>54.29</td>\n",
       "      <td>37.14</td>\n",
       "      <td>5.71</td>\n",
       "    </tr>\n",
       "    <tr>\n",
       "      <th>All</th>\n",
       "      <td>8.24</td>\n",
       "      <td>44.89</td>\n",
       "      <td>36.93</td>\n",
       "      <td>9.94</td>\n",
       "    </tr>\n",
       "  </tbody>\n",
       "</table>\n",
       "</div>"
      ],
      "text/plain": [
       "Age:     18 years or less  19 to 24 years  25 years and above  missing\n",
       "Gender:                                                               \n",
       "Female               9.19           44.17               35.69    10.95\n",
       "Male                 5.88           41.18               47.06     5.88\n",
       "missing              2.86           54.29               37.14     5.71\n",
       "All                  8.24           44.89               36.93     9.94"
      ]
     },
     "metadata": {},
     "output_type": "display_data"
    }
   ],
   "source": [
    "display(tab)\n",
    "display(tab_per)"
   ]
  },
  {
   "cell_type": "markdown",
   "id": "061812a9-86cb-45b8-9794-09c26218c387",
   "metadata": {},
   "source": [
    "## Continuous to category "
   ]
  },
  {
   "cell_type": "code",
   "execution_count": 7,
   "id": "f5421528-e533-48dd-854b-b385e07d13ef",
   "metadata": {},
   "outputs": [
    {
     "data": {
      "text/plain": [
       "count    316.000000\n",
       "mean       2.988703\n",
       "std        0.760973\n",
       "min        1.000000\n",
       "25%        2.300000\n",
       "50%        3.350000\n",
       "75%        3.350000\n",
       "max        4.000000\n",
       "Name: Your Last Semester GPA: , dtype: float64"
      ]
     },
     "execution_count": 7,
     "metadata": {},
     "output_type": "execute_result"
    }
   ],
   "source": [
    "gpa = 'Your Last Semester GPA: '\n",
    "df[gpa] = pd.to_numeric(df[gpa], errors='coerce')\n",
    "df[gpa].describe()"
   ]
  },
  {
   "cell_type": "code",
   "execution_count": 8,
   "id": "7a5f9e54-ad6c-4e8f-8b98-d2498f741210",
   "metadata": {},
   "outputs": [
    {
     "data": {
      "text/plain": [
       ">=3,<=4    181\n",
       ">=2,<3     114\n",
       ">=1,<2      21\n",
       "Name: gpa_cate, dtype: int64"
      ]
     },
     "execution_count": 8,
     "metadata": {},
     "output_type": "execute_result"
    }
   ],
   "source": [
    "gpa_cate = \"gpa_cate\"\n",
    "labels = [\">=1,<2\", \">=2,<3\",\">=3,<=4\"]\n",
    "df[gpa_cate] = pd.cut(df[gpa], bins=[1,2,3,4.1], right=False, labels=labels)\n",
    "df[gpa_cate].value_counts()"
   ]
  },
  {
   "cell_type": "code",
   "execution_count": 9,
   "id": "e3116ecb-def4-426b-aaa4-400783ae95ab",
   "metadata": {},
   "outputs": [
    {
     "data": {
      "text/plain": [
       ">=3,<=4    181\n",
       ">=2,<3     114\n",
       "missing     36\n",
       ">=1,<2      21\n",
       "Name: gpa_cate, dtype: int64"
      ]
     },
     "execution_count": 9,
     "metadata": {},
     "output_type": "execute_result"
    }
   ],
   "source": [
    "# Way 1\n",
    "df[gpa_cate] = (df[gpa]\n",
    "                .mask(df[gpa].isnull(),\"missing\")\n",
    "                .mask(df[gpa] <= 4, labels[2])\n",
    "                .mask(df[gpa] < 3, labels[1])\n",
    "                .mask(df[gpa] < 2, labels[0])\n",
    "               )\n",
    "# Way 2\n",
    "df[gpa_cate] = (df[gpa]\n",
    "                .mask(df[gpa].isnull(),\"missing\")\n",
    "                .mask(df[gpa].le(4), labels[2])\n",
    "                .mask(df[gpa].lt(3), labels[1])\n",
    "                .mask(df[gpa].lt(2), labels[0])\n",
    "               )\n",
    "df[gpa_cate].value_counts()"
   ]
  },
  {
   "cell_type": "markdown",
   "id": "389da768-6f52-428c-b6ac-b2d630588af4",
   "metadata": {},
   "source": [
    "#  Scales to category"
   ]
  },
  {
   "cell_type": "code",
   "execution_count": 10,
   "id": "17508beb-7015-4623-b820-661983ab0e9f",
   "metadata": {},
   "outputs": [],
   "source": [
    "qs = {f\"q{i}\" : df.columns[i+2] for i in range(1,7)}\n",
    "qs = {**qs, **{i:f\"q{i}_cate\" for i in range(1,7) }}"
   ]
  },
  {
   "cell_type": "code",
   "execution_count": 11,
   "id": "8d6d8ad7-2f0a-4fb6-bd12-697799c8a697",
   "metadata": {},
   "outputs": [],
   "source": [
    "# Way 1\n",
    "for i in range(1,7):\n",
    "    c = qs[f\"q{i}\"]\n",
    "    df[qs[i]] = df[c].replace({1:0,2:0,3:1,4:1})\n",
    "    \n",
    "# Way 2\n",
    "for i in range(1,7):\n",
    "    c = qs[f\"q{i}\"]\n",
    "    df[qs[i]] = (df[c]\n",
    "                 .mask(df[c].apply(lambda x: x in [1,2]), 0)\n",
    "                 .mask(df[c].apply(lambda x: x in [3,4]), 1)\n",
    "                )\n",
    "# Way 3\n",
    "for i in range(1,7):\n",
    "    c = qs[f\"q{i}\"]\n",
    "    df[qs[i]] = (df[c]\n",
    "                 .mask(df[c].eq(1) | df[c].eq(2), 0)\n",
    "                 .mask((df[c] == 3) | (df[c] == 4) , 1)\n",
    "                )"
   ]
  },
  {
   "cell_type": "markdown",
   "id": "2c4d7517-eb11-4205-ad95-d0c921b7358c",
   "metadata": {},
   "source": [
    "### Calculate Score "
   ]
  },
  {
   "cell_type": "code",
   "execution_count": 12,
   "id": "a5f86074-e5c7-4ee3-b43b-0665b3f524b2",
   "metadata": {},
   "outputs": [],
   "source": [
    "cols = [f\"q{i}_cate\" for i in range(1,7)]"
   ]
  },
  {
   "cell_type": "code",
   "execution_count": 13,
   "id": "f8c44b3f-e6c0-4bae-a665-901804786beb",
   "metadata": {},
   "outputs": [],
   "source": [
    "sum1 = df[cols].sum(axis=1, skipna=False)\n",
    "sum2 = df[cols].replace(np.nan,1).sum(axis=1, skipna=False)\n",
    "sum3 = df[cols].replace(np.nan,0).sum(axis=1, skipna=False)\n",
    "\n",
    "scale = (sum1\n",
    "        .mask(sum1.isnull(), \"missing\")\n",
    "        .mask( (sum1 >=4 ) | (sum3 >= 4), \">=4\")\n",
    "        .mask( sum1 <= 3, \"2-3\")\n",
    "        .mask( (sum1 <= 1) | (sum2 <= 1), \"<=1\")\n",
    "        )"
   ]
  },
  {
   "cell_type": "code",
   "execution_count": 14,
   "id": "0206c840-4f56-4298-b675-c323324a5754",
   "metadata": {},
   "outputs": [
    {
     "data": {
      "text/plain": [
       "NaN    169\n",
       "3.0     35\n",
       "2.0     28\n",
       "0.0     27\n",
       "5.0     25\n",
       "4.0     24\n",
       "1.0     22\n",
       "6.0     22\n",
       "dtype: int64"
      ]
     },
     "execution_count": 14,
     "metadata": {},
     "output_type": "execute_result"
    }
   ],
   "source": [
    "sum1.value_counts(dropna=False)"
   ]
  },
  {
   "cell_type": "code",
   "execution_count": 15,
   "id": "e5c2e947-2c7f-4b24-b20c-598b57b2b09e",
   "metadata": {},
   "outputs": [
    {
     "data": {
      "text/plain": [
       ">=4        128\n",
       "missing     85\n",
       "<=1         76\n",
       "2-3         63\n",
       "dtype: int64"
      ]
     },
     "execution_count": 15,
     "metadata": {},
     "output_type": "execute_result"
    }
   ],
   "source": [
    "scale.value_counts()"
   ]
  },
  {
   "cell_type": "code",
   "execution_count": null,
   "id": "9b27ecb1-283f-42b8-a569-c84805c5528b",
   "metadata": {},
   "outputs": [],
   "source": []
  }
 ],
 "metadata": {
  "kernelspec": {
   "display_name": "Python 3",
   "language": "python",
   "name": "python3"
  },
  "language_info": {
   "codemirror_mode": {
    "name": "ipython",
    "version": 3
   },
   "file_extension": ".py",
   "mimetype": "text/x-python",
   "name": "python",
   "nbconvert_exporter": "python",
   "pygments_lexer": "ipython3",
   "version": "3.8.10"
  }
 },
 "nbformat": 4,
 "nbformat_minor": 5
}
